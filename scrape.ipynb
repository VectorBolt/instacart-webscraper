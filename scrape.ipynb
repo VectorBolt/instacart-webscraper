{
  "nbformat": 4,
  "nbformat_minor": 0,
  "metadata": {
    "colab": {
      "name": "scrape.ipynb",
      "provenance": [],
      "collapsed_sections": [],
      "toc_visible": true,
      "include_colab_link": true
    },
    "kernelspec": {
      "name": "python3",
      "display_name": "Python 3"
    }
  },
  "cells": [
    {
      "cell_type": "markdown",
      "metadata": {
        "id": "view-in-github",
        "colab_type": "text"
      },
      "source": [
        "<a href=\"https://colab.research.google.com/github/VectorBolt/instacart-webscraper/blob/main/scrape.ipynb\" target=\"_parent\"><img src=\"https://colab.research.google.com/assets/colab-badge.svg\" alt=\"Open In Colab\"/></a>"
      ]
    },
    {
      "cell_type": "markdown",
      "metadata": {
        "id": "eQbbJZKwfeov"
      },
      "source": [
        "#Welcome\n",
        "_______"
      ]
    },
    {
      "cell_type": "markdown",
      "metadata": {
        "id": "n4B92caHfkun"
      },
      "source": [
        "Hello Instacart! Welcome to our team's Web Scraper! Please feel free to look around, and contact us with any questions or comments.\n",
        "\n",
        "-- Avneesh, Aahaan, Manroop, and Risha"
      ]
    },
    {
      "cell_type": "markdown",
      "metadata": {
        "id": "VwyWMXH_MbXG"
      },
      "source": [
        "##Overview\n",
        "_____\n",
        "Our Webscraper is a Python program that scraped over 5000 one-star reviews from [Trustpilot](https://ca.trustpilot.com/review/instacart.com?stars=1) and [Sitejabber](https://www.sitejabber.com/reviews/instacart.com#reviews). We only analyzed one-star reviews because our intent was to determine the main problems customer's have with the Instacart.\n",
        "\n",
        "Our program classifies the reviews into appropriate categories. After our preliminary research, we determined seven core issues that we wanted to look for in our reviews:\n",
        "\n",
        "* **Pricing:** This refers to all issues customers have with Instacart's pricing.\n",
        "* **Wrong Product:** This refers to occassions when the customer did not receive the product they wanted, often due to poor substitution choices\n",
        "* **Theft:** This category involves situations when the shopper stole the customers groceries. It is important to note, however, that some of these instances may be situations where the customer *thought* the shopper stole groceries, when in reality some products were simply missing.\n",
        "* **Cancellation:** Occassions when the customer's order was cancelled.\n",
        "* **Delivery Issues:** This category generally refers to instances when the customer's order arrived late. However, it also includes situations when the shopper did not follow the customer's instructions.\n",
        "* **Customer Service:** Issues relating to Instacart's customer service department.\n",
        "* **Bad Food Choices:** Instances when the shopper chose bad groceries, which may be spoiled, rotten, expired, etc.\n",
        "\n",
        "We also have a **Shopper Issues** category, which includes all reviews that would fit into the Wrong Product, Theft, Cancellation, Delivery Issues, and Bad Food Choices categories. We made this category to analyze the portion of reviews that had issues that could have been solved with better shoppers.\n",
        "\n",
        "> Note that each time the program is run, the data might be slightly different. This is because reviews are constantly added to these websites, causing the data from one day to be slightly different from the data for the next day. However, the percentages will most likely remain in the same ballpark.\n"
      ]
    },
    {
      "cell_type": "markdown",
      "metadata": {
        "id": "LXIqlXim8O_S"
      },
      "source": [
        "#Installing and Importing\n",
        "___\n",
        "The packages we will need to install are BeautifulSoup, lxml, and requests for Web Scraping. We will also need spaCy for natural language processing, which will help us categorize the reviews."
      ]
    },
    {
      "cell_type": "code",
      "metadata": {
        "id": "jgOzQd2go112"
      },
      "source": [
        "# INSTALLING\n",
        "# Note: Running this cell may not be necessary\n",
        "!pip install beautifulsoup4\n",
        "\n",
        "!pip install lxml\n",
        "\n",
        "!pip install requests\n",
        "\n",
        "!pip install spacy\n",
        "\n",
        "!python -m spacy download en_core_web_sm"
      ],
      "execution_count": null,
      "outputs": []
    },
    {
      "cell_type": "code",
      "metadata": {
        "id": "F7zFsMazpYWb"
      },
      "source": [
        "# IMPORTING\n",
        "# This cell must be run\n",
        "from bs4 import BeautifulSoup\n",
        "import requests\n",
        "import csv\n",
        "import spacy\n",
        "nlp = spacy.load('en_core_web_sm')"
      ],
      "execution_count": null,
      "outputs": []
    },
    {
      "cell_type": "markdown",
      "metadata": {
        "id": "NMekmkAi8B4e"
      },
      "source": [
        "#Scraping Reviews\n",
        "___\n",
        "This part of the program scrapes the reviews from each website and stores the data collected into CSV files. "
      ]
    },
    {
      "cell_type": "code",
      "metadata": {
        "id": "cOdftdO0siUa"
      },
      "source": [
        "# Removes spaces before and after string\n",
        "# This function is necessary to remove the extra spaces in our data, \n",
        "# which are caused by scraping errors.\n",
        "def format_text(text):\n",
        "  if not text == None:\n",
        "    i = text[0]\n",
        "    while i == ' ' or i == '\\n':\n",
        "      text = text[1:]\n",
        "      i = text[0]\n",
        "    i = text[-1]\n",
        "    while i == ' ' or i == '\\n':\n",
        "      text = text[:len(text)-1]\n",
        "      i = text[-1]\n",
        "\n",
        "    return text\n"
      ],
      "execution_count": null,
      "outputs": []
    },
    {
      "cell_type": "markdown",
      "metadata": {
        "id": "BlCnB1cs_Yb0"
      },
      "source": [
        "The following cell scrapes the reviews from [Trustpilot](https://ca.trustpilot.com/review/instacart.com?stars=1) and stores the **Link** to the review, the **name of the reviewer**, the **rating** (which will always be one star), the **title** of the review, and the **content** of the review itself into a CSV file. \n",
        "> Currently, only one star reviews are being scraped."
      ]
    },
    {
      "cell_type": "code",
      "metadata": {
        "id": "hvGhaWPprZeN"
      },
      "source": [
        "NUM_OF_PAGES = 210\n",
        "#NUM_OF_PAGES = 25\n",
        "num_of_trustpilot_reviews = 0\n",
        "\n",
        "with open('trustpilot_one_star_reviews.csv', 'w') as csv_file_1:\n",
        "  csv_writer = csv.writer(csv_file_1)\n",
        "\n",
        "  csv_writer.writerow(['Link', 'Reviewer', 'Rating', 'Title', 'Review'])\n",
        "\n",
        "  # Iterate over each page\n",
        "  for page in range(1, NUM_OF_PAGES):\n",
        "    # Link rules for each page\n",
        "    if page == 1:\n",
        "      source = requests.get('https://ca.trustpilot.com/review/instacart.com?stars=1').text\n",
        "    else:\n",
        "      source = requests.get(f'https://ca.trustpilot.com/review/instacart.com?page={page}&stars=1').text\n",
        "    soup = BeautifulSoup(source, 'lxml')\n",
        "\n",
        "    # Iterate over each review\n",
        "    for article in soup.find_all('article'):\n",
        "      # Get data\n",
        "      review_link = f\"https://ca.trustpilot.com{article.find('h2', class_ = 'review-content__title').a['href']}\"\n",
        "      reviewer = article.find('div', class_ = \"consumer-information__name\").text\n",
        "      rating = article.find('div', class_ = \"star-rating star-rating--medium\").img['alt']\n",
        "      review_title = article.find('h2', class_ = \"review-content__title\").a.text\n",
        "      try:\n",
        "        review_content = article.find('p', class_ = \"review-content__text\").text\n",
        "      except AttributeError:\n",
        "        review_content = None\n",
        "\n",
        "      # format text\n",
        "      reviewer = format_text(reviewer)\n",
        "      review_title = format_text(review_title)\n",
        "      review_content = format_text(review_content)\n",
        "\n",
        "      # write to csv\n",
        "      csv_writer.writerow([review_link, reviewer, rating, review_title, review_content])\n",
        "      num_of_trustpilot_reviews += 1\n",
        "\n",
        "print(\"Total number of reviews scraped: \" + num_of_trustpilot_reviews)\n",
        "\n"
      ],
      "execution_count": null,
      "outputs": []
    },
    {
      "cell_type": "markdown",
      "metadata": {
        "id": "K7ficX98_czy"
      },
      "source": [
        "The following cell scrapes the reviews from [Sitejabber](https://www.sitejabber.com/reviews/instacart.com#reviews) and stores the **Link** to the review, the **name of the reviewer**, the **rating** (which will always be one star), the **title** of the review, and the **content** of the review itself into a CSV file. \n",
        "> Currently, only one star reviews are being scraped."
      ]
    },
    {
      "cell_type": "code",
      "metadata": {
        "id": "o1nLnokm_e2E",
        "colab": {
          "base_uri": "https://localhost:8080/"
        },
        "outputId": "b2a2186b-04e4-42bb-9e66-ae5179c76778"
      },
      "source": [
        "NUM_OF_PAGES = 62\n",
        "#NUM_OF_PAGES = 16\n",
        "num_of_sitejabber_reviews = 0\n",
        "\n",
        "with open('sitejabber_one_star_reviews.csv', 'w') as csv_file_2:\n",
        "  csv_writer = csv.writer(csv_file_2)\n",
        "\n",
        "  csv_writer.writerow(['Link', 'Reviewer', 'Rating', 'Title', 'Review'])\n",
        "\n",
        "  # Iterate over each page\n",
        "  for page in range(1, NUM_OF_PAGES):\n",
        "    # Link rules for each page\n",
        "    if page == 1:\n",
        "      source = requests.get('https://www.sitejabber.com/reviews/instacart.com#reviews').text\n",
        "    else:\n",
        "      source = requests.get(f'https://www.sitejabber.com/reviews/instacart.com?page={page}#reviews').text\n",
        "    soup = BeautifulSoup(source, 'lxml')\n",
        "\n",
        "    # Iterate over each review\n",
        "    for review in soup.find_all('div', class_ = 'review__flex'):\n",
        "      # Get data\n",
        "      review_link = f\"https://www.sitejabber.com{review.find('div', class_ = 'review__title').a['href']}\"\n",
        "      reviewer = review.find('div', class_ = \"review__author__name\").a.span.text\n",
        "      rating = review.find('div', class_ = \"stars\")['title']\n",
        "      review_title = review.find('span', class_ = \"review__title__text\").text\n",
        "      try:\n",
        "        review_content = review.find('div', class_ = \"review__text\").text\n",
        "      except AttributeError:\n",
        "        review_content = None\n",
        "      \n",
        "      # format text\n",
        "      reviewer = format_text(reviewer)\n",
        "      review_title = format_text(review_title)\n",
        "      review_content = format_text(review_content)\n",
        "\n",
        "      # write to csv\n",
        "      if rating == \"1.0 star rating\":\n",
        "        csv_writer.writerow([review_link, reviewer, rating, review_title, review_content])\n",
        "        num_of_sitejabber_reviews += 1\n",
        "\n",
        "print(num_of_sitejabber_reviews)\n"
      ],
      "execution_count": null,
      "outputs": [
        {
          "output_type": "stream",
          "text": [
            "1342\n"
          ],
          "name": "stdout"
        }
      ]
    },
    {
      "cell_type": "markdown",
      "metadata": {
        "id": "4Rq0slErXpIK"
      },
      "source": [
        "This cell compiles all the reviews from both websites into one CSV file.\n",
        "\n"
      ]
    },
    {
      "cell_type": "code",
      "metadata": {
        "id": "Z-JZ95AVXsep"
      },
      "source": [
        "with open('compiled_reviews.csv', 'w') as compiled_csv:\n",
        "  csv_writer = csv.writer(compiled_csv)\n",
        "\n",
        "  csv_writer.writerow(['Link', 'Reviewer', 'Rating', 'Title', 'Review'])\n",
        "\n",
        "  with open('trustpilot_one_star_reviews.csv', 'r') as t_reviews:\n",
        "    csv_reader = csv.reader(t_reviews)\n",
        "    next(t_reviews)\n",
        "    for line in csv_reader:\n",
        "      csv_writer.writerow(line)\n",
        "\n",
        "  with open('sitejabber_one_star_reviews.csv', 'r') as s_reviews:\n",
        "      csv_reader = csv.reader(s_reviews)\n",
        "      next(s_reviews)\n",
        "      for line in csv_reader:\n",
        "        csv_writer.writerow(line)"
      ],
      "execution_count": null,
      "outputs": []
    },
    {
      "cell_type": "markdown",
      "metadata": {
        "id": "28Nc5IhU4dcI"
      },
      "source": [
        "# Pre-Processing\n",
        "___\n",
        "This part of the program analyzes the scraped reviews and classifies them into relevant categories.\n",
        "> **Note:** We also have an \"Ethnic\" category which was used to see the frequency of keywords and phrases relating to Ethnic groceries.\n",
        "\n",
        "Our categorization was done by searching for keywords and key phrases. We used spaCy to tokenize the reviews, remove stop words, and lemmatize the reviews. This ensured that variations of our keywords, were converted into root words before classification.\n",
        "> For example, the word \"incorrectly\" would be converted to the word \"incorrect\"."
      ]
    },
    {
      "cell_type": "code",
      "metadata": {
        "id": "VGxKpubo8quj"
      },
      "source": [
        "# Sorting function\n",
        "# This funciton classifies each review\n",
        "def classify(review_title, review_content, tokens):\n",
        "  categories = []\n",
        "\n",
        "  keywords = {\n",
        "    \"Pricing\": ['overpriced', 'expensive', 'markup', 'price', 'fee', \n",
        "                'charge', 'cost', 'purchase', 'ripoff', 'spend', 'scam', \n",
        "                'scammer', 'scamme'],\n",
        "    \"Wrong Product\": [\"wrong\", \"substitute\", \"choice\", \"replace\", \"change\", \n",
        "                      \"mistake\", \"miss\", \"substitutions\", \"incorrect\"],\n",
        "    \"Theft\": [\"stolen\", \"steal\", \"stole\", \"rob\", \"drive-off\", \"theft\", \"receive\"],\n",
        "    \"Cancellation\": [\"cancel\", \"delete\"],\n",
        "    \"Delivery Issues\": [\"late\", \"reschedule\", \"schedule\", \"delay\", \"instruction\"],\n",
        "    \"Customer Service\": [\"phone\", \"call\", \"refund\", \"reimburse\", \"support\", \"help\"],\n",
        "    \"Bad Food Choices\": [\"soggy\", \"rotten\", \"rot\", \"spoil\", \"expire\", \"gross\"],\n",
        "    \"Ethnic\": [\"halal\", \"indian\", \"muslim\", \"chinese\", \"korean\", \"kosher\", \"mexican\", \n",
        "              \"italian\", \"japanese\", \"vietnamese\", \"thai\", \"greek\", \"vegetarian\", \"vegan\"],\n",
        "    \"Shopper Issues\": [\"wrong\", \"substitute\", \"choice\", \"replace\", \"change\", \n",
        "                      \"mistake\", \"miss\", \"substitutions\", \"incorrect\",\n",
        "                       \"stolen\", \"steal\", \"stole\", \"rob\", \"drive-off\", \"theft\", \"receive\",\n",
        "                       \"cancel\", \"delete\", \n",
        "                       \"late\", \"reschedule\", \"schedule\", \"delay\", \"instruction\"\n",
        "                       \"soggy\", \"rotten\", \"rot\", \"spoil\", \"expire\", \"gross\"]  \n",
        "  }\n",
        "\n",
        "  phrases = {\n",
        "      \"Pricing\": ['marked up', 'rip off', 'ripping off', 'ripped off', \"mark up\"],\n",
        "      \"Wrong Product\": [\"not what i wanted\", \"didn't want\", \"did not want\"],\n",
        "      \"Theft\": [\"not deliver\", \"not delivered\", \"didn't show up\", \"did not show up\", \"wasn't delivered\"],\n",
        "      \"Cancellation\": [\"never received\"],\n",
        "      \"Delivery Issues\": [\"delivery time\"],\n",
        "      \"Customer Service\": [\"customer service\", \"help desk\"],\n",
        "      \"Bad Food Choices\": [],\n",
        "      \"Shopper Issues\": [\"not what i wanted\", \"didn't want\", \"did not want\",\n",
        "                         \"not deliver\", \"not delivered\", \"didn't show up\", \"did not show up\", \"wasn't delivered\",\n",
        "                         \"never received\", \"delivery time\"]\n",
        "  }\n",
        "\n",
        "  for key, value_list in keywords.items():\n",
        "    for keyword in value_list:\n",
        "      if keyword in tokens:\n",
        "        categories.append(key)\n",
        "        break\n",
        "\n",
        "  for key, value_list in phrases.items():\n",
        "    for phrase in value_list:\n",
        "      if phrase in review_title or phrase in review_content:\n",
        "        categories.append(key)\n",
        "        break\n",
        "\n",
        "  return categories\n"
      ],
      "execution_count": null,
      "outputs": []
    },
    {
      "cell_type": "code",
      "metadata": {
        "id": "9mRwDksj2wWw"
      },
      "source": [
        "# This cell categorizes all the reviews that were scraped\n",
        "\n",
        "# Opening the CSV containing all the reviews\n",
        "with open('compiled_reviews.csv', 'r') as compiled_csv:\n",
        "  reader_fieldnames = ['Link', 'Reviewer', 'Rating', 'Title', 'Review']\n",
        "  csv_reader = csv.DictReader(compiled_csv, fieldnames = reader_fieldnames)\n",
        "  next(compiled_csv)\n",
        "\n",
        "  # Creating a new CSV that includes one column for \"Categories\",\n",
        "  # in addition to the standard columns.\n",
        "  with open('preprocessed_reviews.csv', 'w') as preprocessed_csv:\n",
        "    writer_fieldnames = ['Category', 'Link', 'Reviewer', 'Rating', 'Title', 'Review']\n",
        "    csv_writer = csv.DictWriter(preprocessed_csv, fieldnames = writer_fieldnames)\n",
        "    \n",
        "    csv_writer.writeheader()\n",
        "\n",
        "    # Making the reviews entirely lowercase for better analysis\n",
        "    for review in csv_reader:\n",
        "      header_text = review['Title'].lower()\n",
        "      content_text = review['Review'].lower()\n",
        "\n",
        "      # Using spaCy for natural language processing\n",
        "      doc_header = nlp(header_text)\n",
        "      doc_content = nlp(content_text)\n",
        "\n",
        "      token_list = []\n",
        "\n",
        "      for token in doc_header:\n",
        "        if (not token.is_punct) and (not token.is_stop):\n",
        "          token_list.append(token.lemma_)\n",
        "\n",
        "      for token in doc_content:\n",
        "        if (not token.is_punct) and (not token.is_stop):\n",
        "          token_list.append(token.lemma_)\n",
        "      \n",
        "      categories = classify(header_text, content_text, token_list)\n",
        "      categories = list(set(categories)) # remove duplicate categories\n",
        "      \n",
        "      # Append each applicable category\n",
        "      category_string = \"\"\n",
        "      for category in categories:\n",
        "        category_string += category + \";\"\n",
        "\n",
        "      # Write to CSV\n",
        "      csv_writer.writerow({\n",
        "          'Category': category_string,\n",
        "          'Link': review['Link'],\n",
        "          'Reviewer': review['Reviewer'],\n",
        "          'Rating': review['Rating'],\n",
        "          'Title': review['Title'],\n",
        "          'Review': review['Review']\n",
        "          })\n",
        "      "
      ],
      "execution_count": null,
      "outputs": []
    },
    {
      "cell_type": "markdown",
      "metadata": {
        "id": "4PzEpuCnvZ7d"
      },
      "source": [
        "#Data Visualization\n",
        "___\n",
        "And now for the big reveal! This section of the program visualizes the data by converting it into a bar graph. "
      ]
    },
    {
      "cell_type": "code",
      "metadata": {
        "id": "CfzD7p__ve2k"
      },
      "source": [
        "# INSTALLING\n",
        "\n",
        "!pip install matplotlib\n",
        "\n",
        "!pip install pandas\n"
      ],
      "execution_count": null,
      "outputs": []
    },
    {
      "cell_type": "code",
      "metadata": {
        "id": "mGkH_mkVvxav"
      },
      "source": [
        "# IMPORTING\n",
        "from matplotlib import pyplot as plt\n",
        "import pandas as pd\n",
        "from collections import Counter"
      ],
      "execution_count": null,
      "outputs": []
    },
    {
      "cell_type": "code",
      "metadata": {
        "colab": {
          "base_uri": "https://localhost:8080/",
          "height": 314
        },
        "id": "YaENKQAxwZuo",
        "outputId": "54ba91ba-568f-4d9c-ec7c-9b9e40ae7481"
      },
      "source": [
        "# CREATING THE BAR GRAPH\n",
        "data = pd.read_csv('preprocessed_reviews.csv')\n",
        "reviews_category_column = data['Category']\n",
        "\n",
        "complaint_counter = Counter()\n",
        "errors = []\n",
        "\n",
        "# Keep track of number of reviews\n",
        "\n",
        "total_num_of_reviews = 0\n",
        "\n",
        "for review_categories in reviews_category_column:\n",
        "  try:\n",
        "    category_list = review_categories.split(';')\n",
        "  except: \n",
        "    category_list = [\"Not Classified\"]\n",
        "  complaint_counter.update(category_list)\n",
        "  total_num_of_reviews += 1\n",
        "\n",
        "complaint_categories = []\n",
        "frequency = []\n",
        "\n",
        "for item in complaint_counter.most_common():\n",
        "  complaint_categories.append(item[0])\n",
        "  frequency.append(item[1])\n",
        "\n",
        "# Remove first item because for some reason the first item includes all reviews\n",
        "# TODO: This problem seems to occur when the categories are split on the ';'\n",
        "complaint_categories.pop(0)\n",
        "frequency.pop(0)\n",
        "\n",
        "plt.title(\"Most Common Instacart Complaints\")\n",
        "plt.xlabel(\"Frequency\")\n",
        "plt.style.use('seaborn-poster')\n",
        "plt.tight_layout()\n",
        "plt.barh(complaint_categories, frequency)\n",
        "plt.savefig('plot.jpg', dpi=300, bbox_inches='tight')\n",
        "\n",
        "print(\"Total number of reviews analyzed: \" + str(total_num_of_reviews))"
      ],
      "execution_count": null,
      "outputs": [
        {
          "output_type": "stream",
          "text": [
            "Total number of reviews analyzed: 5522\n"
          ],
          "name": "stdout"
        },
        {
          "output_type": "display_data",
          "data": {
            "image/png": "[encoded data removed]",
            "text/plain": [
              "<Figure size 432x288 with 1 Axes>"
            ]
          },
          "metadata": {
            "tags": [],
            "needs_background": "light"
          }
        }
      ]
    },
    {
      "cell_type": "markdown",
      "metadata": {
        "id": "Xr141_nCibH8"
      },
      "source": [
        "The following cells list the exact number of reviews that fit into each category, as well as the percentages of reviews that fit into each category. \n",
        "> Note that the percentages do not add up to 100%, and the frequencies do not add up to the total number of reviews. This is because for most reviews, there is overlap. Each review may fit into multiple categories. Our goal was to analyze the frequency of each type of problem."
      ]
    },
    {
      "cell_type": "code",
      "metadata": {
        "colab": {
          "base_uri": "https://localhost:8080/"
        },
        "id": "ef1HPk4NwHMG",
        "outputId": "c817395c-eb8a-4a00-ee8e-b623dc3157a4"
      },
      "source": [
        "for i, j in zip(complaint_categories, frequency):\n",
        "  print(i, j)\n"
      ],
      "execution_count": null,
      "outputs": [
        {
          "output_type": "stream",
          "text": [
            "Shopper Issues 3568\n",
            "Intransparent Pricing 3104\n",
            "Customer Service 2923\n",
            "Wrong Product 1859\n",
            "Theft 1557\n",
            "Cancellation 1070\n",
            "Delivery Issues 854\n",
            "Not Classified 478\n",
            "Bad Food Choices 118\n",
            "Ethnic 16\n"
          ],
          "name": "stdout"
        }
      ]
    },
    {
      "cell_type": "markdown",
      "metadata": {
        "id": "5Nfp7EXFveds"
      },
      "source": [
        "The following cell lists the percentage of reviews that fit into each category. As of December 6, 2020, this is the data we collected."
      ]
    },
    {
      "cell_type": "code",
      "metadata": {
        "colab": {
          "base_uri": "https://localhost:8080/"
        },
        "id": "AjwYFe2sws3H",
        "outputId": "a9137f4b-df37-43da-aa60-9cfced70d484"
      },
      "source": [
        "for i, j in zip(complaint_categories, frequency):\n",
        "  percentage = (j/total_num_of_reviews)*100\n",
        "  percentage = round(percentage, 2)\n",
        "  print(str(percentage) + \"% of reviews complained about\", i)"
      ],
      "execution_count": null,
      "outputs": [
        {
          "output_type": "stream",
          "text": [
            "64.61% of reviews complained about Shopper Issues\n",
            "56.21% of reviews complained about Intransparent Pricing\n",
            "52.93% of reviews complained about Customer Service\n",
            "33.67% of reviews complained about Wrong Product\n",
            "28.2% of reviews complained about Theft\n",
            "19.38% of reviews complained about Cancellation\n",
            "15.47% of reviews complained about Delivery Issues\n",
            "8.66% of reviews complained about Not Classified\n",
            "2.14% of reviews complained about Bad Food Choices\n",
            "0.29% of reviews complained about Ethnic\n"
          ],
          "name": "stdout"
        }
      ]
    },
    {
      "cell_type": "markdown",
      "metadata": {
        "id": "cBhcDclRhHMT"
      },
      "source": [
        "As of December 6, 2020, this is the data we collected. The data in the code cells above, as well as the bar graph, may vary depending on when the program is run, since new reviews are added very often.\n",
        "\n",
        "Category | Frequency | Percentage\n",
        ":---: | :---:| :---:\n",
        "Shopper Issues | 3568 | 64.61%\n",
        "Intransparent Pricing | 3104 | 56.21%\n",
        "Customer Service | 2923 | 52.93%\n",
        "Wrong Product | 1859 | 33.67%\n",
        "Theft | 1557 | 28.2%\n",
        "Cancellation | 1070 | 19.38%\n",
        "Delivery Issues | 854 | 15.47%\n",
        "Not Classified | 478 | 8.66%\n",
        "Bad Food Choices | 118 | 2.14%\n",
        "Ethnic | 16 | 0.29%"
      ]
    },
    {
      "cell_type": "markdown",
      "metadata": {
        "id": "gGDeLDUAigeX"
      },
      "source": [
        "#Specialized CSVs\n",
        "We also created separate CSVs for all reviews that fit into certain categories for our own analysis."
      ]
    },
    {
      "cell_type": "code",
      "metadata": {
        "id": "xCzthaEojXkv"
      },
      "source": [
        "def create_specialized_csv(category, csv_name):\n",
        "  with open('preprocessed_reviews.csv') as preprocessed_csv:\n",
        "    reader_fieldnames = ['Category', 'Link', 'Reviewer', 'Rating', 'Title', 'Review']\n",
        "    csv_reader = csv.DictReader(preprocessed_csv, fieldnames = reader_fieldnames)\n",
        "    next(preprocessed_csv)\n",
        "\n",
        "    with open(f'{csv_name}.csv', 'w') as specialized_csv:\n",
        "      writer_fieldnames = ['Other Categories', 'Link', 'Reviewer', 'Rating', 'Title', 'Review']\n",
        "      csv_writer = csv.DictWriter(specialized_csv, fieldnames = writer_fieldnames)\n",
        "      \n",
        "      csv_writer.writeheader()\n",
        "\n",
        "      for review in csv_reader:\n",
        "        if f\"{category}\" in review['Category']:\n",
        "          csv_writer.writerow({\n",
        "            'Other Categories': review['Category'],\n",
        "            'Link': review['Link'],\n",
        "            'Reviewer': review['Reviewer'],\n",
        "            'Rating': review['Rating'],\n",
        "            'Title': review['Title'],\n",
        "            'Review': review['Review']\n",
        "            })"
      ],
      "execution_count": null,
      "outputs": []
    },
    {
      "cell_type": "code",
      "metadata": {
        "id": "t62XjxpdbL6j"
      },
      "source": [
        "# Creating a Customer Service CSV\n",
        "\n",
        "create_specialized_csv(\"Customer Service\", \"customer_service\")\n",
        "        "
      ],
      "execution_count": null,
      "outputs": []
    },
    {
      "cell_type": "code",
      "metadata": {
        "id": "puocobPuiohl"
      },
      "source": [
        "# Wrong Product CSV\n",
        "create_specialized_csv(\"Wrong Product\", \"wrong_product\")"
      ],
      "execution_count": null,
      "outputs": []
    },
    {
      "cell_type": "code",
      "metadata": {
        "id": "xSiuSFngjT3x"
      },
      "source": [
        "# Theft CSV\n",
        "create_specialized_csv(\"Theft\", \"theft\")"
      ],
      "execution_count": null,
      "outputs": []
    },
    {
      "cell_type": "code",
      "metadata": {
        "id": "qvWYulcK3BGw"
      },
      "source": [
        "# Not Classified CSV\n",
        "\n",
        "with open('preprocessed_reviews.csv') as preprocessed_csv:\n",
        "  reader_fieldnames = ['Category', 'Link', 'Reviewer', 'Rating', 'Title', 'Review']\n",
        "  csv_reader = csv.DictReader(preprocessed_csv, fieldnames = reader_fieldnames)\n",
        "  next(preprocessed_csv)\n",
        "\n",
        "  with open('not_classified.csv', 'w') as customer_service_csv:\n",
        "    writer_fieldnames = ['Categories', 'Link', 'Reviewer', 'Rating', 'Title', 'Review']\n",
        "    csv_writer = csv.DictWriter(customer_service_csv, fieldnames = writer_fieldnames)\n",
        "    \n",
        "    csv_writer.writeheader()\n",
        "\n",
        "    for review in csv_reader:\n",
        "      if review['Category'].split(';') == ['']:\n",
        "        csv_writer.writerow({\n",
        "          'Categories': review['Category'],\n",
        "          'Link': review['Link'],\n",
        "          'Reviewer': review['Reviewer'],\n",
        "          'Rating': review['Rating'],\n",
        "          'Title': review['Title'],\n",
        "          'Review': review['Review']\n",
        "          })"
      ],
      "execution_count": null,
      "outputs": []
    }
  ]
}